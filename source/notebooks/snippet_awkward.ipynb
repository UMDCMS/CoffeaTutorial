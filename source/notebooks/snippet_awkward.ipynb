{
 "cells": [
  {
   "cell_type": "markdown",
   "metadata": {},
   "source": [
    "# Awkward array snippets\n",
    "\n",
    "Here are a bunch of computation routines that might not be so straight think up\n",
    "when first moving form loop based analysis. Takes these snippets adapt them to\n",
    "your own needs."
   ]
  },
  {
   "cell_type": "markdown",
   "metadata": {},
   "source": [
    "## Object matching\n",
    "\n",
    "TO BE Written  --- assigned Yi-Mu Chen\n",
    "\n",
    "Given two collections A, and B, create a sub-collection in A that is composed of\n",
    "B matching some selection criteria that involves matching objects in collection\n",
    "B to collection A\n"
   ]
  },
  {
   "cell_type": "code",
   "execution_count": 1,
   "metadata": {
    "lines_to_next_cell": 0
   },
   "outputs": [],
   "source": [
    "def match(collection_A, collection_B):\n",
    "    collection_A = collection_[:]"
   ]
  },
  {
   "cell_type": "markdown",
   "id": "7137a24b",
   "metadata": {},
   "source": []
  }
 ],
 "metadata": {
  "jupytext": {
   "main_language": "python"
  },
  "kernelspec": {
   "display_name": "Python 3",
   "name": "python3"
  },
  "language_info": {
   "codemirror_mode": {
    "name": "ipython",
    "version": 3
   },
   "file_extension": ".py",
   "mimetype": "text/x-python",
   "name": "python",
   "nbconvert_exporter": "python",
   "pygments_lexer": "ipython3",
   "version": "3.9.1-final"
  }
 },
 "nbformat": 4,
 "nbformat_minor": 2
}
