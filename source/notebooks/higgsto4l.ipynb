{
 "cells": [
  {
   "cell_type": "markdown",
   "metadata": {},
   "source": [
    "# Example: Higgs to 4 Muons"
   ]
  },
  {
   "cell_type": "markdown",
   "metadata": {},
   "source": [
    "\n",
    "In this example, we will follow the [cms open data analyses](https://github.com/cms-opendata-analyses/HiggsExample20112012). Repeat the Higgs discovery (Higgs to 4 Muons) with the Coffea language. \n",
    "\n",
    "Selections/cuts used are from this [Analyzer](https://github.com/cms-opendata-analyses/HiggsExample20112012/blob/master/HiggsDemoAnalyzer/src/HiggsDemoAnalyzerGit.cc).\n"
   ]
  },
  {
   "cell_type": "code",
   "execution_count": 1,
   "metadata": {},
   "outputs": [],
   "source": [
    "%matplotlib inline\n",
    "import numpy as np\n",
    "import awkward1 as ak\n",
    "import awkward\n",
    "from coffea.nanoevents import NanoEventsFactory, BaseSchema, NanoAODSchema"
   ]
  },
  {
   "cell_type": "markdown",
   "metadata": {},
   "source": [
    "The original data format used in this analyses is imcompatible with Coffea. I manually extracted related informations with this [analyser](https://github.com/yihui-lai/HiggsExample20112012/blob/master/HiggsDemoAnalyzer/src/HiggsDemoAnalyzerGit.cc) and stored them as flat root ntuple (`samples/Higgs4L1file.root`). "
   ]
  },
  {
   "cell_type": "code",
   "execution_count": 2,
   "metadata": {},
   "outputs": [
    {
     "data": {
      "text/plain": [
       "['event', 'Electron', 'Muon', 'run', 'luminosityBlock']"
      ]
     },
     "execution_count": 2,
     "metadata": {},
     "output_type": "execute_result"
    }
   ],
   "source": [
    "events = NanoEventsFactory.from_root(\n",
    "    \"../../samples/Higgs4L1file.root\",\n",
    "    \"demo/ttree\",\n",
    "    entry_stop=10000,\n",
    "    schemaclass=NanoAODSchema\n",
    ").events()\n",
    "events.fields"
   ]
  },
  {
   "cell_type": "markdown",
   "metadata": {},
   "source": [
    "Here we begin the selections on events"
   ]
  },
  {
   "cell_type": "code",
   "execution_count": 3,
   "metadata": {},
   "outputs": [
    {
     "name": "stdout",
     "output_type": "stream",
     "text": [
      "muon total number:  9880\n",
      "good muon total number:  7992\n",
      "events (nmuon>=4) number:  327\n"
     ]
    }
   ],
   "source": [
    "#select global particle flow muons\n",
    "selected_muons = events.Muon[events.Muon.isPFMuon & events.Muon.isPFIsolationValid & events.Muon.hasglobalTrack]\n",
    "print(\"muon total number: \",ak.sum(ak.num(selected_muons)))\n",
    "\n",
    "#good muons \n",
    "selected_muons = selected_muons[ (np.abs(np.sqrt(selected_muons.dxy**2+selected_muons.dz**2)/np.sqrt(selected_muons.dxyErr**2+selected_muons.dzErr**2))<4) & \n",
    "                                 (np.abs(selected_muons.dxy)<0.5) & \n",
    "                                 (np.abs(selected_muons.dz)<1) & \n",
    "                                 (np.abs(selected_muons.pfRelIso04_all)<0.4) &\n",
    "                                 (selected_muons.pt>5) & \n",
    "                                 (np.abs(selected_muons.eta)<2.4) ]\n",
    "print(\"good muon total number: \", ak.sum(ak.num(selected_muons)))\n",
    "\n",
    "\n",
    "#ZZ to 4Muons\n",
    "selected_muons = selected_muons[ak.num(selected_muons) >=4]\n",
    "print(\"events (nmuon>=4) number: \",len(selected_muons))\n"
   ]
  },
  {
   "cell_type": "code",
   "execution_count": 4,
   "metadata": {},
   "outputs": [
    {
     "name": "stdout",
     "output_type": "stream",
     "text": [
      "events (charge==0) number:  327\n"
     ]
    }
   ],
   "source": [
    "#sort from high pt to low pt\n",
    "selected_muons = selected_muons[ak.argsort(selected_muons.pt, axis=-1, ascending=False)]\n",
    "#only need the first 4 muons\n",
    "selected_muons = selected_muons[:,0:4]\n",
    "# total charge need to be 0\n",
    "selected_muons[ak.sum(selected_muons[:,:,\"charge\"],axis=-1) == 0]\n",
    "print(\"events (charge==0) number: \", len(selected_muons))\n",
    "# 6 combinations: 12, 13, 14, 23, 24, 34\n",
    "# after charge selection, only 4 combinations preserved \n",
    "selected_muon_pair = ak.combinations(selected_muons, 2)\n",
    "selected_muon_pair = selected_muon_pair[((selected_muon_pair[\"0\"][:,\"charge\"]+selected_muon_pair[\"1\"][:,\"charge\"])==0)]"
   ]
  },
  {
   "cell_type": "code",
   "execution_count": 5,
   "metadata": {},
   "outputs": [],
   "source": [
    "# define a function used to find the combination with mass closest to real Z mass\n",
    "def closest(muon_pair):\n",
    "    delta = abs(91.1876 - muon_pair.mass[:])\n",
    "    closest_masses = np.min(delta,axis=-1)\n",
    "    is_closest = (delta == closest_masses)\n",
    "    return is_closest"
   ]
  },
  {
   "cell_type": "code",
   "execution_count": 6,
   "metadata": {},
   "outputs": [],
   "source": [
    "# get the mask for the closest z boson and another z boson\n",
    "z_pair = (selected_muon_pair[\"0\"] + selected_muon_pair[\"1\"])\n",
    "za_mask = closest(z_pair)\n",
    "zb_mask = awkward.fromiter(za_mask[:,[3,2,1,0]])\n",
    "# best combination of muons, za is closer to real Z boson mass\n",
    "zamuons = selected_muon_pair[za_mask]\n",
    "zbmuons = selected_muon_pair[zb_mask]\n",
    "zamuons = ak.flatten(zamuons)"
   ]
  },
  {
   "cell_type": "code",
   "execution_count": 7,
   "metadata": {},
   "outputs": [
    {
     "name": "stdout",
     "output_type": "stream",
     "text": [
      "327 * (muon, muon)\n",
      "327 * (muon, muon)\n"
     ]
    }
   ],
   "source": [
    "print(zamuons.type)\n",
    "print(zbmuons.type)"
   ]
  },
  {
   "cell_type": "code",
   "execution_count": 8,
   "metadata": {},
   "outputs": [],
   "source": [
    "# requirement on mass of za, zb\n",
    "isgoodmza = (((zamuons[\"0\"]+zamuons[\"1\"]).mass>40)&((zamuons[\"0\"]+zamuons[\"1\"]).mass<120))\n",
    "isgoodmzb = (((zbmuons[\"0\"]+zbmuons[\"1\"]).mass>12)&((zbmuons[\"0\"]+zbmuons[\"1\"]).mass<120))\n",
    "# another requirement on za \n",
    "isgoodpt = (zamuons[\"0\"].pt>20)&(zamuons[\"1\"].pt>10)\n",
    "Goodza = zamuons[isgoodpt&isgoodmza&isgoodmzb]\n",
    "Goodzb = zbmuons[isgoodpt&isgoodmza&isgoodmzb]"
   ]
  },
  {
   "cell_type": "code",
   "execution_count": 9,
   "metadata": {},
   "outputs": [
    {
     "name": "stdout",
     "output_type": "stream",
     "text": [
      "final events number: 284\n"
     ]
    }
   ],
   "source": [
    "# add 4 muons \n",
    "higgs = Goodza['0']+Goodza['1'] + Goodzb['0']+Goodzb['1']\n",
    "higgs = higgs[higgs.mass>70]\n",
    "print(\"final events number:\",len(higgs))"
   ]
  },
  {
   "cell_type": "code",
   "execution_count": 10,
   "metadata": {},
   "outputs": [
    {
     "data": {
      "image/png": "[encoded data removed]",
      "text/plain": [
       "<Figure size 432x288 with 1 Axes>"
      ]
     },
     "metadata": {
      "needs_background": "light"
     },
     "output_type": "display_data"
    }
   ],
   "source": [
    "import matplotlib.pyplot as plt\n",
    "bins = np.arange(100, 140, 1)\n",
    "fig, ax = plt.subplots()\n",
    "n, bins, patches = ax.hist(higgs.mass, bins=bins,)\n",
    "ax.set_xlabel('Higgs mass [GeV]')\n",
    "ax.set_ylabel('Number of events')\n",
    "ax.set_title(r'Higgs -> zz -> 4muons')\n",
    "\n",
    "fig.tight_layout()\n",
    "plt.show()\n"
   ]
  },
  {
   "cell_type": "markdown",
   "metadata": {},
   "source": [
    "## Write the previous code again within processor framwork "
   ]
  },
  {
   "cell_type": "code",
   "execution_count": 11,
   "metadata": {},
   "outputs": [],
   "source": [
    "import coffea.processor as processor\n",
    "from coffea import hist\n",
    "\n",
    "def closest(muon_pair):\n",
    "    delta = abs(91.1876 - muon_pair.mass[:])\n",
    "    closest_masses = np.min(delta,axis=-1)\n",
    "    is_closest = (delta == closest_masses)\n",
    "    return is_closest\n",
    "\n",
    "class Processor(processor.ProcessorABC):\n",
    "    def __init__(self):\n",
    "        # Bins and categories for the histogram are defined here. For format, see https://coffeateam.github.io/coffea/stubs/coffea.hist.hist_tools.Hist.html && https://coffeateam.github.io/coffea/stubs/coffea.hist.hist_tools.Bin.html\n",
    "        dataset_axis = hist.Cat(\"dataset\", \"\")\n",
    "        Higgs_axis = hist.Bin(\"Higgs\", \"Higgs [GeV]\", 40, 100, 140)\n",
    "        \n",
    "        # The accumulator keeps our data chunks together for histogramming. It also gives us cutflow, which can be used to keep track of data.\n",
    "        self._accumulator = processor.dict_accumulator({\n",
    "            'Higgs': hist.Hist(\"Counts\", dataset_axis, Higgs_axis),\n",
    "            'cutflow': processor.defaultdict_accumulator(int)\n",
    "        })\n",
    "    \n",
    "    @property\n",
    "    def accumulator(self):\n",
    "        return self._accumulator\n",
    "    \n",
    "    def process(self, events):\n",
    "        output = self.accumulator.identity()\n",
    "        \n",
    "        dataset = events.metadata[\"dataset\"]\n",
    "        selected_muons = events.Muon[events.Muon.isPFMuon & events.Muon.isPFIsolationValid & events.Muon.hasglobalTrack]\n",
    "        \n",
    "        output['cutflow']['all muons'] += ak.sum(ak.num(selected_muons))\n",
    "\n",
    "        selected_muons = selected_muons[ (np.abs(np.sqrt(selected_muons.dxy**2+selected_muons.dz**2)/np.sqrt(selected_muons.dxyErr**2+selected_muons.dzErr**2))<4) & \n",
    "                                        (np.abs(selected_muons.dxy)<0.5) & \n",
    "                                        (np.abs(selected_muons.dz)<1) & \n",
    "                                        (np.abs(selected_muons.pfRelIso04_all)<0.4) &\n",
    "                                        (selected_muons.pt>5) & \n",
    "                                        (np.abs(selected_muons.eta)<2.4) ]\n",
    "        output['cutflow']['good muons'] += ak.sum(ak.num(selected_muons))\n",
    "\n",
    "        selected_muons = selected_muons[ak.num(selected_muons) >=4]\n",
    "        output['cutflow']['events with 4 good muons'] += len(selected_muons)\n",
    "\n",
    "        selected_muons = selected_muons[ak.argsort(selected_muons.pt, axis=-1, ascending=False)]\n",
    "        selected_muons = selected_muons[:,0:4]\n",
    "        selected_muons[ak.sum(selected_muons[:,:,\"charge\"],axis=-1) == 0]\n",
    "\n",
    "        selected_muon_pair = ak.combinations(selected_muons, 2)\n",
    "        selected_muon_pair = selected_muon_pair[((selected_muon_pair[\"0\"][:,\"charge\"]+selected_muon_pair[\"1\"][:,\"charge\"])==0)]\n",
    "\n",
    "        z_pair = (selected_muon_pair[\"0\"] + selected_muon_pair[\"1\"])\n",
    "        za_mask = closest(z_pair)\n",
    "        zb_mask = awkward.fromiter(za_mask[:,[3,2,1,0]])\n",
    "\n",
    "        zamuons = selected_muon_pair[za_mask]\n",
    "        zbmuons = selected_muon_pair[zb_mask]\n",
    "        zamuons = ak.flatten(zamuons)\n",
    "\n",
    "        isgoodmza = (((zamuons[\"0\"]+zamuons[\"1\"]).mass>40)&((zamuons[\"0\"]+zamuons[\"1\"]).mass<120))\n",
    "        isgoodmzb = (((zbmuons[\"0\"]+zbmuons[\"1\"]).mass>12)&((zbmuons[\"0\"]+zbmuons[\"1\"]).mass<120))\n",
    "        isgoodpt = (zamuons[\"0\"].pt>20)&(zamuons[\"1\"].pt>10)\n",
    "\n",
    "        Goodza = zamuons[isgoodpt&isgoodmza&isgoodmzb]\n",
    "        Goodzb = zbmuons[isgoodpt&isgoodmza&isgoodmzb]\n",
    "        higgs = Goodza['0']+Goodza['1'] + Goodzb['0']+Goodzb['1']\n",
    "        \n",
    "        output['cutflow']['final events'] += len(higgs.mass)\n",
    "        output['cutflow']['number of chunks'] += 1\n",
    "        \n",
    "        output['Higgs'].fill(dataset=dataset, Higgs=higgs.mass)\n",
    "        return output\n",
    "\n",
    "    def postprocess(self, accumulator):\n",
    "        return accumulator"
   ]
  },
  {
   "cell_type": "code",
   "execution_count": 12,
   "metadata": {},
   "outputs": [
    {
     "data": {
      "text/plain": [
       "{'Higgs': <Hist (dataset,Higgs) instance at 0x7ff99f28dfa0>,\n",
       " 'cutflow': defaultdict_accumulator(int,\n",
       "                         {'all muons': 9880,\n",
       "                          'good muons': 7992,\n",
       "                          'events with 4 good muons': 327,\n",
       "                          'final events': 284,\n",
       "                          'number of chunks': 1})}"
      ]
     },
     "execution_count": 12,
     "metadata": {},
     "output_type": "execute_result"
    }
   ],
   "source": [
    "events = NanoEventsFactory.from_root(\n",
    "    \"../../samples/Higgs4L1file.root\",\n",
    "    \"demo/ttree\",\n",
    "    entry_stop=10000,\n",
    "    metadata={\"dataset\": \"Higgs_to_4muons\"},\n",
    "    schemaclass=NanoAODSchema\n",
    ").events()\n",
    "p = Processor()\n",
    "output = p.process(events)\n",
    "output"
   ]
  },
  {
   "cell_type": "code",
   "execution_count": 13,
   "metadata": {},
   "outputs": [
    {
     "data": {
      "text/plain": [
       "<AxesSubplot:xlabel='Higgs [GeV]', ylabel='Counts'>"
      ]
     },
     "execution_count": 13,
     "metadata": {},
     "output_type": "execute_result"
    },
    {
     "data": {
      "image/png": "[encoded data removed]",
      "text/plain": [
       "<Figure size 432x288 with 1 Axes>"
      ]
     },
     "metadata": {
      "needs_background": "light"
     },
     "output_type": "display_data"
    }
   ],
   "source": [
    "hist.plot1d(output['Higgs'], overlay='dataset', fill_opts={'edgecolor': (0,0,0,0.3), 'alpha': 0.8})"
   ]
  },
  {
   "cell_type": "code",
   "execution_count": null,
   "metadata": {},
   "outputs": [],
   "source": []
  }
 ],
 "metadata": {
  "kernelspec": {
   "display_name": "Python 3",
   "language": "python",
   "name": "python3"
  },
  "language_info": {
   "codemirror_mode": {
    "name": "ipython",
    "version": 3
   },
   "file_extension": ".py",
   "mimetype": "text/x-python",
   "name": "python",
   "nbconvert_exporter": "python",
   "pygments_lexer": "ipython3",
   "version": "3.8.1"
  }
 },
 "nbformat": 4,
 "nbformat_minor": 2
}
